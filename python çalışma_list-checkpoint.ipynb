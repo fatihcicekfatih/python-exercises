{
 "cells": [
  {
   "cell_type": "code",
   "execution_count": 12,
   "metadata": {},
   "outputs": [],
   "source": [
    "city_list = [['New York', 'London', 'Istanbul', 'Seoul', 'Sydney']]\n"
   ]
  },
  {
   "cell_type": "code",
   "execution_count": 13,
   "metadata": {},
   "outputs": [
    {
     "name": "stdout",
     "output_type": "stream",
     "text": [
      "[['New York', 'London', 'Istanbul', 'Seoul', 'Sydney']]\n"
     ]
    }
   ],
   "source": [
    "print(city_list)"
   ]
  },
  {
   "cell_type": "code",
   "execution_count": 14,
   "metadata": {},
   "outputs": [
    {
     "name": "stdout",
     "output_type": "stream",
     "text": [
      "['New York', 'London', 'Istanbul', 'Seoul', 'Sydney']\n"
     ]
    }
   ],
   "source": [
    "\n",
    "print(city_list[0])"
   ]
  },
  {
   "cell_type": "code",
   "execution_count": 15,
   "metadata": {},
   "outputs": [
    {
     "name": "stdout",
     "output_type": "stream",
     "text": [
      "['New York', 'London', 'Istanbul', 'Seoul', 'Sydney']\n"
     ]
    }
   ],
   "source": [
    "print(*city_list)"
   ]
  },
  {
   "cell_type": "code",
   "execution_count": 16,
   "metadata": {},
   "outputs": [],
   "source": [
    "numbers = [1, 3, 5, 7, 9, 11, 13, 15, 17]"
   ]
  },
  {
   "cell_type": "code",
   "execution_count": 17,
   "metadata": {},
   "outputs": [
    {
     "name": "stdout",
     "output_type": "stream",
     "text": [
      "[5, 7, 9]\n"
     ]
    }
   ],
   "source": [
    "print(numbers[2:5])"
   ]
  },
  {
   "cell_type": "code",
   "execution_count": 18,
   "metadata": {},
   "outputs": [
    {
     "name": "stdout",
     "output_type": "stream",
     "text": [
      "3\n"
     ]
    }
   ],
   "source": [
    "print(len(numbers[2:5]))"
   ]
  },
  {
   "cell_type": "code",
   "execution_count": 19,
   "metadata": {},
   "outputs": [],
   "source": [
    "### CEVAP -1\n",
    "\n",
    "# bilmecenin cevabını kullanıcıdan alıp, eğer kullanıcı doğru cevap verdiyse \"doğru\", yanlış cevap verdiyse \"yanlış\" yazdıralım.\n",
    "# Kullanıcı cevabı büyük harfle de verebilir ya da öncesine ve sonrasına boşluk bırakabilir bu durumda da cevabı doğru veya yanlış olarak yazdırabilmeliyiz.(if kullanılmayacak"
   ]
  },
  {
   "cell_type": "code",
   "execution_count": 20,
   "metadata": {},
   "outputs": [
    {
     "data": {
      "text/plain": [
       "'yanlış'"
      ]
     },
     "execution_count": 20,
     "metadata": {},
     "output_type": "execute_result"
    }
   ],
   "source": [
    "a = input(\"Pazardan aldım bir tane eve geldim bin tane:\").lower().strip()\n",
    "a== \"nar\" and \"doğru\" or \"yanlış\""
   ]
  },
  {
   "cell_type": "code",
   "execution_count": 21,
   "metadata": {},
   "outputs": [
    {
     "name": "stdout",
     "output_type": "stream",
     "text": [
      "oncupınar\n"
     ]
    }
   ],
   "source": [
    "a = input(\"Bir kelime giriniz: \")\n",
    "a = a.replace(\"ö\", \"o\")\n",
    "a = a.replace(\"ü\", \"u\")\n",
    "print(a)"
   ]
  },
  {
   "cell_type": "code",
   "execution_count": 11,
   "metadata": {},
   "outputs": [],
   "source": [
    "# istanbulun ilk harfi ve ankaranın ikinci harfi hatalı düzeltelim, \n",
    "#listeye harf bazında erişip değiştirilecek(ş ve n harfi kullanılmayacak)\n",
    "\n",
    "sehirler = [[\"şstanbul\", \"izmir\", [\"akkara\",\"muş\"], \"eskisehir\", \"malatya\", \"konya\", \"afyon\"]]"
   ]
  },
  {
   "cell_type": "code",
   "execution_count": null,
   "metadata": {},
   "outputs": [],
   "source": []
  },
  {
   "cell_type": "code",
   "execution_count": null,
   "metadata": {},
   "outputs": [],
   "source": []
  },
  {
   "cell_type": "code",
   "execution_count": null,
   "metadata": {},
   "outputs": [],
   "source": []
  }
 ],
 "metadata": {
  "kernelspec": {
   "display_name": "Python 3",
   "language": "python",
   "name": "python3"
  },
  "language_info": {
   "codemirror_mode": {
    "name": "ipython",
    "version": 3
   },
   "file_extension": ".py",
   "mimetype": "text/x-python",
   "name": "python",
   "nbconvert_exporter": "python",
   "pygments_lexer": "ipython3",
   "version": "3.11.0"
  },
  "vscode": {
   "interpreter": {
    "hash": "f7591dbcbfcf4e11bb2b9ed0ba1b7aa3ed822b0153881b8a97c64a70c64f21b0"
   }
  }
 },
 "nbformat": 4,
 "nbformat_minor": 4
}
