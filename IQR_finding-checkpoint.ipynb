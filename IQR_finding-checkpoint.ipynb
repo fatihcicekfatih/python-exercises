{
 "cells": [
  {
   "cell_type": "code",
   "execution_count": null,
   "metadata": {},
   "outputs": [],
   "source": [
    "ex1"
   ]
  },
  {
   "cell_type": "code",
   "execution_count": 1,
   "metadata": {},
   "outputs": [],
   "source": [
    "import numpy as np"
   ]
  },
  {
   "cell_type": "code",
   "execution_count": 2,
   "metadata": {},
   "outputs": [],
   "source": [
    "st_hours = [16,15,12,15,10,16,16,15,15,12,18,12,14,10,18,15,14,15,15]"
   ]
  },
  {
   "cell_type": "code",
   "execution_count": 10,
   "metadata": {},
   "outputs": [
    {
     "name": "stdout",
     "output_type": "stream",
     "text": [
      "mean of st_hours: 14.368421052631579\n",
      "median of st_hours: 15.0\n"
     ]
    }
   ],
   "source": [
    "print(\"mean of st_hours:\", np.mean(st_hours))\n",
    "print(\"median of st_hours:\", np.median(st_hours))"
   ]
  },
  {
   "cell_type": "code",
   "execution_count": null,
   "metadata": {},
   "outputs": [],
   "source": []
  },
  {
   "cell_type": "code",
   "execution_count": null,
   "metadata": {},
   "outputs": [],
   "source": [
    "ex2"
   ]
  },
  {
   "cell_type": "code",
   "execution_count": 7,
   "metadata": {},
   "outputs": [
    {
     "name": "stdout",
     "output_type": "stream",
     "text": [
      "mean of d: 7.625\n",
      "variance of d: 3.984375\n",
      "standart deviation of d: 1.996089927833914\n"
     ]
    }
   ],
   "source": [
    "d = [10,9,7,9,8,9,5,4]\n",
    "\n",
    "\n",
    "print(\"mean of d:\", np.mean(d))\n",
    "print(\"variance of d:\", np.var(d))\n",
    "print(\"standart deviation of d:\", np.std(d))"
   ]
  },
  {
   "cell_type": "code",
   "execution_count": null,
   "metadata": {},
   "outputs": [],
   "source": []
  },
  {
   "cell_type": "code",
   "execution_count": null,
   "metadata": {},
   "outputs": [],
   "source": [
    "ex3"
   ]
  },
  {
   "cell_type": "code",
   "execution_count": 8,
   "metadata": {},
   "outputs": [],
   "source": [
    "from scipy import stats"
   ]
  },
  {
   "cell_type": "code",
   "execution_count": 9,
   "metadata": {},
   "outputs": [],
   "source": [
    "salary = [120,80,85,85,80,83,100,105,105,85,75,125,120,105,85,80,95,90,95,85,80,85,120,100,105,90]"
   ]
  },
  {
   "cell_type": "code",
   "execution_count": 13,
   "metadata": {},
   "outputs": [
    {
     "name": "stdout",
     "output_type": "stream",
     "text": [
      "mean of salary: 94.73076923076923\n",
      "median of salary: 90.0\n",
      "mode of salary: ModeResult(mode=array([85]), count=array([6]))\n",
      "standart deviation of salary: 14.300504811712853\n",
      "variance of salary: 204.50443786982248\n"
     ]
    }
   ],
   "source": [
    "print(\"mean of salary:\", np.mean(salary))\n",
    "print(\"median of salary:\", np.median(salary))\n",
    "print(\"mode of salary:\", stats.mode(salary))\n",
    "print(\"standart deviation of salary:\", np.std(salary))\n",
    "print(\"variance of salary:\", np.var(salary))\n"
   ]
  },
  {
   "cell_type": "code",
   "execution_count": 15,
   "metadata": {},
   "outputs": [
    {
     "data": {
      "text/plain": [
       "105.0"
      ]
     },
     "execution_count": 15,
     "metadata": {},
     "output_type": "execute_result"
    }
   ],
   "source": [
    "q75 = np.percentile(salary, 75)\n",
    "q75"
   ]
  },
  {
   "cell_type": "code",
   "execution_count": 17,
   "metadata": {},
   "outputs": [
    {
     "data": {
      "text/plain": [
       "85.0"
      ]
     },
     "execution_count": 17,
     "metadata": {},
     "output_type": "execute_result"
    }
   ],
   "source": [
    "q25 = np.percentile(salary, 25)\n",
    "q25"
   ]
  },
  {
   "cell_type": "code",
   "execution_count": 20,
   "metadata": {},
   "outputs": [
    {
     "name": "stdout",
     "output_type": "stream",
     "text": [
      "IQR of salary: 20.0\n"
     ]
    }
   ],
   "source": [
    "IQR = q75 - q25\n",
    "IQR\n",
    "print(\"IQR of salary:\", IQR)"
   ]
  },
  {
   "cell_type": "code",
   "execution_count": null,
   "metadata": {},
   "outputs": [],
   "source": []
  }
 ],
 "metadata": {
  "kernelspec": {
   "display_name": "Python 3",
   "language": "python",
   "name": "python3"
  },
  "language_info": {
   "codemirror_mode": {
    "name": "ipython",
    "version": 3
   },
   "file_extension": ".py",
   "mimetype": "text/x-python",
   "name": "python",
   "nbconvert_exporter": "python",
   "pygments_lexer": "ipython3",
   "version": "3.7.6"
  }
 },
 "nbformat": 4,
 "nbformat_minor": 4
}
